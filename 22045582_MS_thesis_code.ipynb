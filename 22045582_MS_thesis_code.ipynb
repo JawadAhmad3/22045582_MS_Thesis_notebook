{
  "cells": [
    {
      "cell_type": "code",
      "execution_count": null,
      "metadata": {
        "colab": {
          "base_uri": "https://localhost:8080/"
        },
        "id": "NSOgqT9WAn1H",
        "outputId": "4c47cd5f-c172-43ab-95de-e463bb3fea0b"
      },
      "outputs": [
        {
          "output_type": "stream",
          "name": "stdout",
          "text": [
            "Drive already mounted at /content/drive; to attempt to forcibly remount, call drive.mount(\"/content/drive\", force_remount=True).\n"
          ]
        }
      ],
      "source": [
        "import pandas as pd\n",
        "import numpy as np\n",
        "from google.colab import drive\n",
        "drive.mount('/content/drive')"
      ]
    },
    {
      "cell_type": "code",
      "execution_count": null,
      "metadata": {
        "id": "ty8pXylSBkb9"
      },
      "outputs": [],
      "source": [
        "data = pd.read_csv(\"/content/drive/MyDrive/EVCS/Electric_Vehicle_Charging_Station_Data_-8671638762898357044.csv\")"
      ]
    },
    {
      "cell_type": "code",
      "source": [
        "data.info()"
      ],
      "metadata": {
        "colab": {
          "base_uri": "https://localhost:8080/"
        },
        "id": "VrWSOCQqYFkR",
        "outputId": "4baf7375-6fa4-4d05-8dbd-5cd923829448"
      },
      "execution_count": null,
      "outputs": [
        {
          "output_type": "stream",
          "name": "stdout",
          "text": [
            "<class 'pandas.core.frame.DataFrame'>\n",
            "RangeIndex: 148136 entries, 0 to 148135\n",
            "Data columns (total 17 columns):\n",
            " #   Column                      Non-Null Count   Dtype  \n",
            "---  ------                      --------------   -----  \n",
            " 0   Station_Name                148136 non-null  object \n",
            " 1   Address                     148136 non-null  object \n",
            " 2   City                        148136 non-null  object \n",
            " 3   State_Province              148136 non-null  object \n",
            " 4   Zip_Postal_Code             148136 non-null  int64  \n",
            " 5   Start_Date___Time           148136 non-null  object \n",
            " 6   Start_Time_Zone             148136 non-null  object \n",
            " 7   End_Date___Time             148132 non-null  object \n",
            " 8   End_Time_Zone               148136 non-null  object \n",
            " 9   Total_Duration__hh_mm_ss_   148136 non-null  object \n",
            " 10  Charging_Time__hh_mm_ss_    148136 non-null  object \n",
            " 11  Energy__kWh_                148136 non-null  float64\n",
            " 12  GHG_Savings__kg_            148136 non-null  float64\n",
            " 13  Gasoline_Savings__gallons_  148136 non-null  float64\n",
            " 14  Port_Type                   148136 non-null  object \n",
            " 15  ObjectID                    148136 non-null  int64  \n",
            " 16  ObjectId2                   148136 non-null  int64  \n",
            "dtypes: float64(3), int64(3), object(11)\n",
            "memory usage: 19.2+ MB\n"
          ]
        }
      ]
    },
    {
      "cell_type": "markdown",
      "source": [
        "**This function takes a string representing a time duration in the format 'hh:mm:ss' and converts it to total seconds.\n",
        "Convert Time Durations to Seconds:**\n",
        "\n",
        "**The duration_to_seconds function is applied to two columns of the dataset:**\n",
        "\n",
        "'Total_Duration_hh_mm_ss'\n",
        "'Charging_Time_hh_mm_ss'\n",
        "\n",
        "The resulting total seconds are stored in new columns 'Total_Duration_Seconds' and 'Charging_Time_Seconds', respectively.\n",
        "\n",
        "**Feature Selection/Engineering:**\n",
        "\n",
        "Selects three columns from the dataset:\n",
        "\n",
        "**'Total_Duration_Seconds', 'Charging_Time_Seconds', and 'Energy_kWh'.**\n",
        "\n",
        "**Anomaly Detection Model:**\n",
        "\n",
        "Creates an Isolation Forest model with a contamination parameter set to 0.1, indicating the expected proportion of anomalies in the dataset.\n",
        "\n",
        "Fits the model to the selected features.\n"
      ],
      "metadata": {
        "id": "rSF7kiJgLuWf"
      }
    },
    {
      "cell_type": "code",
      "execution_count": null,
      "metadata": {
        "colab": {
          "base_uri": "https://localhost:8080/"
        },
        "id": "Gs4wduHlB5EH",
        "outputId": "0ebe2157-d052-4327-c6c5-0bf85b7d060b"
      },
      "outputs": [
        {
          "name": "stderr",
          "output_type": "stream",
          "text": [
            "/usr/local/lib/python3.10/dist-packages/sklearn/base.py:439: UserWarning: X does not have valid feature names, but IsolationForest was fitted with feature names\n",
            "  warnings.warn(\n"
          ]
        }
      ],
      "source": [
        "import pandas as pd\n",
        "import numpy as np\n",
        "from sklearn.ensemble import IsolationForest\n",
        "\n",
        "\n",
        "# Preprocessing: Convert time durations to total seconds\n",
        "def duration_to_seconds(duration_str):\n",
        "    parts = duration_str.split(':')\n",
        "    hours = int(parts[0])\n",
        "    minutes = int(parts[1])\n",
        "    seconds = int(parts[2])\n",
        "    return hours * 3600 + minutes * 60 + seconds\n",
        "\n",
        "data['Total_Duration_Seconds'] = data['Total_Duration__hh_mm_ss_'].apply(duration_to_seconds)\n",
        "data['Charging_Time_Seconds'] = data['Charging_Time__hh_mm_ss_'].apply(duration_to_seconds)\n",
        "\n",
        "# Feature selection/engineering\n",
        "features = data[['Total_Duration_Seconds', 'Charging_Time_Seconds', 'Energy__kWh_']]\n",
        "\n",
        "# Anomaly Detection Model\n",
        "model = IsolationForest(contamination=0.1)  # Contamination refers to the expected proportion of anomalies in the dataset\n",
        "model.fit(features)\n",
        "anomaly_scores = model.decision_function(features)\n",
        "\n",
        "# Convert anomaly scores to a pandas Series\n",
        "anomaly_scores_series = pd.Series(anomaly_scores)\n",
        "\n",
        "# Determine threshold (e.g., using percentiles)\n",
        "threshold = anomaly_scores_series.quantile(0.1)  # Adjust percentile as needed\n",
        "\n",
        "# Label anomalies\n",
        "data['Anomaly_Label'] = anomaly_scores_series.apply(lambda x: 1 if x < threshold else 0)\n",
        "\n",
        "# Save or use the labeled dataset for further analysis\n",
        "data.to_csv(\"labeled_dataset.csv\", index=False)"
      ]
    },
    {
      "cell_type": "markdown",
      "source": [
        "data,head"
      ],
      "metadata": {
        "id": "5zNjF9SWOXAb"
      }
    },
    {
      "cell_type": "code",
      "execution_count": null,
      "metadata": {
        "id": "uUfnq8t1DdBv"
      },
      "outputs": [],
      "source": [
        "data = pd.read_csv(\"/content/drive/MyDrive/EVCS/labeled_dataset.csv\")"
      ]
    },
    {
      "cell_type": "code",
      "execution_count": null,
      "metadata": {
        "id": "Ktq_-z56EGYO"
      },
      "outputs": [],
      "source": [
        "X = data.drop(['Anomaly_Label'], axis=1)\n",
        "y = data['Anomaly_Label']"
      ]
    },
    {
      "cell_type": "code",
      "source": [
        "X.head()"
      ],
      "metadata": {
        "colab": {
          "base_uri": "https://localhost:8080/",
          "height": 399
        },
        "id": "L3XuiBoCactG",
        "outputId": "9a8c8218-8562-43ef-b185-c91eb588b15e"
      },
      "execution_count": null,
      "outputs": [
        {
          "output_type": "execute_result",
          "data": {
            "text/plain": [
              "             Station_Name           Address     City State_Province  \\\n",
              "0  BOULDER / JUNCTION ST1  2280 Junction Pl  Boulder       Colorado   \n",
              "1  BOULDER / JUNCTION ST1  2280 Junction Pl  Boulder       Colorado   \n",
              "2  BOULDER / JUNCTION ST1  2280 Junction Pl  Boulder       Colorado   \n",
              "3    BOULDER / ALPINE ST1   1275 Alpine Ave  Boulder       Colorado   \n",
              "4  BOULDER / BASELINE ST1   900 Baseline Rd  Boulder       Colorado   \n",
              "\n",
              "   Zip_Postal_Code Start_Date___Time Start_Time_Zone End_Date___Time  \\\n",
              "0            80301    1/1/2018 17:49             MDT  1/1/2018 19:52   \n",
              "1            80301     1/2/2018 8:52             MDT   1/2/2018 9:16   \n",
              "2            80301    1/2/2018 21:11             MDT   1/3/2018 6:23   \n",
              "3            80304     1/3/2018 9:19             MDT  1/3/2018 11:14   \n",
              "4            80302    1/3/2018 14:13             MDT  1/3/2018 14:30   \n",
              "\n",
              "  End_Time_Zone Total_Duration__hh_mm_ss_ Charging_Time__hh_mm_ss_  \\\n",
              "0           MDT                   2:03:02                  2:02:44   \n",
              "1           MDT                   0:24:34                  0:24:19   \n",
              "2           MDT                   9:12:21                  3:40:52   \n",
              "3           MDT                   1:54:51                  1:54:29   \n",
              "4           MDT                   0:16:58                  0:16:44   \n",
              "\n",
              "   Energy__kWh_  GHG_Savings__kg_  Gasoline_Savings__gallons_ Port_Type  \\\n",
              "0         6.504             2.732                       0.816   Level 2   \n",
              "1         2.481             1.042                       0.311   Level 2   \n",
              "2        15.046             6.319                       1.888   Level 2   \n",
              "3         6.947             2.918                       0.872   Level 2   \n",
              "4         1.800             0.756                       0.226   Level 2   \n",
              "\n",
              "   ObjectID  ObjectId2  Total_Duration_Seconds  Charging_Time_Seconds  \n",
              "0         0          1                    7382                   7364  \n",
              "1         1          2                    1474                   1459  \n",
              "2         2          3                   33141                  13252  \n",
              "3         3          4                    6891                   6869  \n",
              "4         4          5                    1018                   1004  "
            ],
            "text/html": [
              "\n",
              "  <div id=\"df-be2c48a4-d7f5-4d18-9b87-a99e613881e9\" class=\"colab-df-container\">\n",
              "    <div>\n",
              "<style scoped>\n",
              "    .dataframe tbody tr th:only-of-type {\n",
              "        vertical-align: middle;\n",
              "    }\n",
              "\n",
              "    .dataframe tbody tr th {\n",
              "        vertical-align: top;\n",
              "    }\n",
              "\n",
              "    .dataframe thead th {\n",
              "        text-align: right;\n",
              "    }\n",
              "</style>\n",
              "<table border=\"1\" class=\"dataframe\">\n",
              "  <thead>\n",
              "    <tr style=\"text-align: right;\">\n",
              "      <th></th>\n",
              "      <th>Station_Name</th>\n",
              "      <th>Address</th>\n",
              "      <th>City</th>\n",
              "      <th>State_Province</th>\n",
              "      <th>Zip_Postal_Code</th>\n",
              "      <th>Start_Date___Time</th>\n",
              "      <th>Start_Time_Zone</th>\n",
              "      <th>End_Date___Time</th>\n",
              "      <th>End_Time_Zone</th>\n",
              "      <th>Total_Duration__hh_mm_ss_</th>\n",
              "      <th>Charging_Time__hh_mm_ss_</th>\n",
              "      <th>Energy__kWh_</th>\n",
              "      <th>GHG_Savings__kg_</th>\n",
              "      <th>Gasoline_Savings__gallons_</th>\n",
              "      <th>Port_Type</th>\n",
              "      <th>ObjectID</th>\n",
              "      <th>ObjectId2</th>\n",
              "      <th>Total_Duration_Seconds</th>\n",
              "      <th>Charging_Time_Seconds</th>\n",
              "    </tr>\n",
              "  </thead>\n",
              "  <tbody>\n",
              "    <tr>\n",
              "      <th>0</th>\n",
              "      <td>BOULDER / JUNCTION ST1</td>\n",
              "      <td>2280 Junction Pl</td>\n",
              "      <td>Boulder</td>\n",
              "      <td>Colorado</td>\n",
              "      <td>80301</td>\n",
              "      <td>1/1/2018 17:49</td>\n",
              "      <td>MDT</td>\n",
              "      <td>1/1/2018 19:52</td>\n",
              "      <td>MDT</td>\n",
              "      <td>2:03:02</td>\n",
              "      <td>2:02:44</td>\n",
              "      <td>6.504</td>\n",
              "      <td>2.732</td>\n",
              "      <td>0.816</td>\n",
              "      <td>Level 2</td>\n",
              "      <td>0</td>\n",
              "      <td>1</td>\n",
              "      <td>7382</td>\n",
              "      <td>7364</td>\n",
              "    </tr>\n",
              "    <tr>\n",
              "      <th>1</th>\n",
              "      <td>BOULDER / JUNCTION ST1</td>\n",
              "      <td>2280 Junction Pl</td>\n",
              "      <td>Boulder</td>\n",
              "      <td>Colorado</td>\n",
              "      <td>80301</td>\n",
              "      <td>1/2/2018 8:52</td>\n",
              "      <td>MDT</td>\n",
              "      <td>1/2/2018 9:16</td>\n",
              "      <td>MDT</td>\n",
              "      <td>0:24:34</td>\n",
              "      <td>0:24:19</td>\n",
              "      <td>2.481</td>\n",
              "      <td>1.042</td>\n",
              "      <td>0.311</td>\n",
              "      <td>Level 2</td>\n",
              "      <td>1</td>\n",
              "      <td>2</td>\n",
              "      <td>1474</td>\n",
              "      <td>1459</td>\n",
              "    </tr>\n",
              "    <tr>\n",
              "      <th>2</th>\n",
              "      <td>BOULDER / JUNCTION ST1</td>\n",
              "      <td>2280 Junction Pl</td>\n",
              "      <td>Boulder</td>\n",
              "      <td>Colorado</td>\n",
              "      <td>80301</td>\n",
              "      <td>1/2/2018 21:11</td>\n",
              "      <td>MDT</td>\n",
              "      <td>1/3/2018 6:23</td>\n",
              "      <td>MDT</td>\n",
              "      <td>9:12:21</td>\n",
              "      <td>3:40:52</td>\n",
              "      <td>15.046</td>\n",
              "      <td>6.319</td>\n",
              "      <td>1.888</td>\n",
              "      <td>Level 2</td>\n",
              "      <td>2</td>\n",
              "      <td>3</td>\n",
              "      <td>33141</td>\n",
              "      <td>13252</td>\n",
              "    </tr>\n",
              "    <tr>\n",
              "      <th>3</th>\n",
              "      <td>BOULDER / ALPINE ST1</td>\n",
              "      <td>1275 Alpine Ave</td>\n",
              "      <td>Boulder</td>\n",
              "      <td>Colorado</td>\n",
              "      <td>80304</td>\n",
              "      <td>1/3/2018 9:19</td>\n",
              "      <td>MDT</td>\n",
              "      <td>1/3/2018 11:14</td>\n",
              "      <td>MDT</td>\n",
              "      <td>1:54:51</td>\n",
              "      <td>1:54:29</td>\n",
              "      <td>6.947</td>\n",
              "      <td>2.918</td>\n",
              "      <td>0.872</td>\n",
              "      <td>Level 2</td>\n",
              "      <td>3</td>\n",
              "      <td>4</td>\n",
              "      <td>6891</td>\n",
              "      <td>6869</td>\n",
              "    </tr>\n",
              "    <tr>\n",
              "      <th>4</th>\n",
              "      <td>BOULDER / BASELINE ST1</td>\n",
              "      <td>900 Baseline Rd</td>\n",
              "      <td>Boulder</td>\n",
              "      <td>Colorado</td>\n",
              "      <td>80302</td>\n",
              "      <td>1/3/2018 14:13</td>\n",
              "      <td>MDT</td>\n",
              "      <td>1/3/2018 14:30</td>\n",
              "      <td>MDT</td>\n",
              "      <td>0:16:58</td>\n",
              "      <td>0:16:44</td>\n",
              "      <td>1.800</td>\n",
              "      <td>0.756</td>\n",
              "      <td>0.226</td>\n",
              "      <td>Level 2</td>\n",
              "      <td>4</td>\n",
              "      <td>5</td>\n",
              "      <td>1018</td>\n",
              "      <td>1004</td>\n",
              "    </tr>\n",
              "  </tbody>\n",
              "</table>\n",
              "</div>\n",
              "    <div class=\"colab-df-buttons\">\n",
              "\n",
              "  <div class=\"colab-df-container\">\n",
              "    <button class=\"colab-df-convert\" onclick=\"convertToInteractive('df-be2c48a4-d7f5-4d18-9b87-a99e613881e9')\"\n",
              "            title=\"Convert this dataframe to an interactive table.\"\n",
              "            style=\"display:none;\">\n",
              "\n",
              "  <svg xmlns=\"http://www.w3.org/2000/svg\" height=\"24px\" viewBox=\"0 -960 960 960\">\n",
              "    <path d=\"M120-120v-720h720v720H120Zm60-500h600v-160H180v160Zm220 220h160v-160H400v160Zm0 220h160v-160H400v160ZM180-400h160v-160H180v160Zm440 0h160v-160H620v160ZM180-180h160v-160H180v160Zm440 0h160v-160H620v160Z\"/>\n",
              "  </svg>\n",
              "    </button>\n",
              "\n",
              "  <style>\n",
              "    .colab-df-container {\n",
              "      display:flex;\n",
              "      gap: 12px;\n",
              "    }\n",
              "\n",
              "    .colab-df-convert {\n",
              "      background-color: #E8F0FE;\n",
              "      border: none;\n",
              "      border-radius: 50%;\n",
              "      cursor: pointer;\n",
              "      display: none;\n",
              "      fill: #1967D2;\n",
              "      height: 32px;\n",
              "      padding: 0 0 0 0;\n",
              "      width: 32px;\n",
              "    }\n",
              "\n",
              "    .colab-df-convert:hover {\n",
              "      background-color: #E2EBFA;\n",
              "      box-shadow: 0px 1px 2px rgba(60, 64, 67, 0.3), 0px 1px 3px 1px rgba(60, 64, 67, 0.15);\n",
              "      fill: #174EA6;\n",
              "    }\n",
              "\n",
              "    .colab-df-buttons div {\n",
              "      margin-bottom: 4px;\n",
              "    }\n",
              "\n",
              "    [theme=dark] .colab-df-convert {\n",
              "      background-color: #3B4455;\n",
              "      fill: #D2E3FC;\n",
              "    }\n",
              "\n",
              "    [theme=dark] .colab-df-convert:hover {\n",
              "      background-color: #434B5C;\n",
              "      box-shadow: 0px 1px 3px 1px rgba(0, 0, 0, 0.15);\n",
              "      filter: drop-shadow(0px 1px 2px rgba(0, 0, 0, 0.3));\n",
              "      fill: #FFFFFF;\n",
              "    }\n",
              "  </style>\n",
              "\n",
              "    <script>\n",
              "      const buttonEl =\n",
              "        document.querySelector('#df-be2c48a4-d7f5-4d18-9b87-a99e613881e9 button.colab-df-convert');\n",
              "      buttonEl.style.display =\n",
              "        google.colab.kernel.accessAllowed ? 'block' : 'none';\n",
              "\n",
              "      async function convertToInteractive(key) {\n",
              "        const element = document.querySelector('#df-be2c48a4-d7f5-4d18-9b87-a99e613881e9');\n",
              "        const dataTable =\n",
              "          await google.colab.kernel.invokeFunction('convertToInteractive',\n",
              "                                                    [key], {});\n",
              "        if (!dataTable) return;\n",
              "\n",
              "        const docLinkHtml = 'Like what you see? Visit the ' +\n",
              "          '<a target=\"_blank\" href=https://colab.research.google.com/notebooks/data_table.ipynb>data table notebook</a>'\n",
              "          + ' to learn more about interactive tables.';\n",
              "        element.innerHTML = '';\n",
              "        dataTable['output_type'] = 'display_data';\n",
              "        await google.colab.output.renderOutput(dataTable, element);\n",
              "        const docLink = document.createElement('div');\n",
              "        docLink.innerHTML = docLinkHtml;\n",
              "        element.appendChild(docLink);\n",
              "      }\n",
              "    </script>\n",
              "  </div>\n",
              "\n",
              "\n",
              "<div id=\"df-9c5f0096-3e71-4e1b-992b-767b30084c36\">\n",
              "  <button class=\"colab-df-quickchart\" onclick=\"quickchart('df-9c5f0096-3e71-4e1b-992b-767b30084c36')\"\n",
              "            title=\"Suggest charts\"\n",
              "            style=\"display:none;\">\n",
              "\n",
              "<svg xmlns=\"http://www.w3.org/2000/svg\" height=\"24px\"viewBox=\"0 0 24 24\"\n",
              "     width=\"24px\">\n",
              "    <g>\n",
              "        <path d=\"M19 3H5c-1.1 0-2 .9-2 2v14c0 1.1.9 2 2 2h14c1.1 0 2-.9 2-2V5c0-1.1-.9-2-2-2zM9 17H7v-7h2v7zm4 0h-2V7h2v10zm4 0h-2v-4h2v4z\"/>\n",
              "    </g>\n",
              "</svg>\n",
              "  </button>\n",
              "\n",
              "<style>\n",
              "  .colab-df-quickchart {\n",
              "      --bg-color: #E8F0FE;\n",
              "      --fill-color: #1967D2;\n",
              "      --hover-bg-color: #E2EBFA;\n",
              "      --hover-fill-color: #174EA6;\n",
              "      --disabled-fill-color: #AAA;\n",
              "      --disabled-bg-color: #DDD;\n",
              "  }\n",
              "\n",
              "  [theme=dark] .colab-df-quickchart {\n",
              "      --bg-color: #3B4455;\n",
              "      --fill-color: #D2E3FC;\n",
              "      --hover-bg-color: #434B5C;\n",
              "      --hover-fill-color: #FFFFFF;\n",
              "      --disabled-bg-color: #3B4455;\n",
              "      --disabled-fill-color: #666;\n",
              "  }\n",
              "\n",
              "  .colab-df-quickchart {\n",
              "    background-color: var(--bg-color);\n",
              "    border: none;\n",
              "    border-radius: 50%;\n",
              "    cursor: pointer;\n",
              "    display: none;\n",
              "    fill: var(--fill-color);\n",
              "    height: 32px;\n",
              "    padding: 0;\n",
              "    width: 32px;\n",
              "  }\n",
              "\n",
              "  .colab-df-quickchart:hover {\n",
              "    background-color: var(--hover-bg-color);\n",
              "    box-shadow: 0 1px 2px rgba(60, 64, 67, 0.3), 0 1px 3px 1px rgba(60, 64, 67, 0.15);\n",
              "    fill: var(--button-hover-fill-color);\n",
              "  }\n",
              "\n",
              "  .colab-df-quickchart-complete:disabled,\n",
              "  .colab-df-quickchart-complete:disabled:hover {\n",
              "    background-color: var(--disabled-bg-color);\n",
              "    fill: var(--disabled-fill-color);\n",
              "    box-shadow: none;\n",
              "  }\n",
              "\n",
              "  .colab-df-spinner {\n",
              "    border: 2px solid var(--fill-color);\n",
              "    border-color: transparent;\n",
              "    border-bottom-color: var(--fill-color);\n",
              "    animation:\n",
              "      spin 1s steps(1) infinite;\n",
              "  }\n",
              "\n",
              "  @keyframes spin {\n",
              "    0% {\n",
              "      border-color: transparent;\n",
              "      border-bottom-color: var(--fill-color);\n",
              "      border-left-color: var(--fill-color);\n",
              "    }\n",
              "    20% {\n",
              "      border-color: transparent;\n",
              "      border-left-color: var(--fill-color);\n",
              "      border-top-color: var(--fill-color);\n",
              "    }\n",
              "    30% {\n",
              "      border-color: transparent;\n",
              "      border-left-color: var(--fill-color);\n",
              "      border-top-color: var(--fill-color);\n",
              "      border-right-color: var(--fill-color);\n",
              "    }\n",
              "    40% {\n",
              "      border-color: transparent;\n",
              "      border-right-color: var(--fill-color);\n",
              "      border-top-color: var(--fill-color);\n",
              "    }\n",
              "    60% {\n",
              "      border-color: transparent;\n",
              "      border-right-color: var(--fill-color);\n",
              "    }\n",
              "    80% {\n",
              "      border-color: transparent;\n",
              "      border-right-color: var(--fill-color);\n",
              "      border-bottom-color: var(--fill-color);\n",
              "    }\n",
              "    90% {\n",
              "      border-color: transparent;\n",
              "      border-bottom-color: var(--fill-color);\n",
              "    }\n",
              "  }\n",
              "</style>\n",
              "\n",
              "  <script>\n",
              "    async function quickchart(key) {\n",
              "      const quickchartButtonEl =\n",
              "        document.querySelector('#' + key + ' button');\n",
              "      quickchartButtonEl.disabled = true;  // To prevent multiple clicks.\n",
              "      quickchartButtonEl.classList.add('colab-df-spinner');\n",
              "      try {\n",
              "        const charts = await google.colab.kernel.invokeFunction(\n",
              "            'suggestCharts', [key], {});\n",
              "      } catch (error) {\n",
              "        console.error('Error during call to suggestCharts:', error);\n",
              "      }\n",
              "      quickchartButtonEl.classList.remove('colab-df-spinner');\n",
              "      quickchartButtonEl.classList.add('colab-df-quickchart-complete');\n",
              "    }\n",
              "    (() => {\n",
              "      let quickchartButtonEl =\n",
              "        document.querySelector('#df-9c5f0096-3e71-4e1b-992b-767b30084c36 button');\n",
              "      quickchartButtonEl.style.display =\n",
              "        google.colab.kernel.accessAllowed ? 'block' : 'none';\n",
              "    })();\n",
              "  </script>\n",
              "</div>\n",
              "\n",
              "    </div>\n",
              "  </div>\n"
            ],
            "application/vnd.google.colaboratory.intrinsic+json": {
              "type": "dataframe",
              "variable_name": "X"
            }
          },
          "metadata": {},
          "execution_count": 26
        }
      ]
    },
    {
      "cell_type": "code",
      "source": [
        "y.head()"
      ],
      "metadata": {
        "colab": {
          "base_uri": "https://localhost:8080/"
        },
        "id": "tERMXZqgahfd",
        "outputId": "1c4e8843-5f87-46c4-8e5d-d6783fa48df4"
      },
      "execution_count": null,
      "outputs": [
        {
          "output_type": "execute_result",
          "data": {
            "text/plain": [
              "0    0\n",
              "1    0\n",
              "2    1\n",
              "3    0\n",
              "4    0\n",
              "Name: Anomaly_Label, dtype: int64"
            ]
          },
          "metadata": {},
          "execution_count": 27
        }
      ]
    },
    {
      "cell_type": "code",
      "execution_count": null,
      "metadata": {
        "id": "pVvE6Gq7EUfE",
        "colab": {
          "base_uri": "https://localhost:8080/"
        },
        "outputId": "3ffd89f3-f026-4e2a-e1c2-313747694ca4"
      },
      "outputs": [
        {
          "output_type": "stream",
          "name": "stdout",
          "text": [
            "Counter({0: 133322, 1: 14814})\n"
          ]
        }
      ],
      "source": [
        "from collections import Counter\n",
        "counter = Counter(y)\n",
        "print(counter)"
      ]
    },
    {
      "cell_type": "markdown",
      "source": [
        "**Separate Numerical and Categorical Columns:**\n",
        "\n",
        "**X_numeric and X_categorical store the numerical and categorical parts of the dataset X, respectively.**\n",
        "\n",
        "**Impute Missing Values in Numerical Columns:**\n",
        "\n",
        "Uses SimpleImputer with the strategy set to 'mean' to fill missing values in numerical columns (X_numeric).\n",
        "\n",
        "**Impute Missing Values in Categorical Columns:**\n",
        "\n",
        "Utilizes SimpleImputer with the strategy set to 'most_frequent' to fill missing values in categorical columns (X_categorical).\n",
        "\n",
        "**Combine Imputed Numerical and Categorical Data:**\n",
        "\n",
        "Merges the imputed numerical and categorical data into a single DataFrame (X_imputed).\n",
        "\n",
        "**Initialize SMOTE-NC:**\n",
        "\n",
        "Initializes SMOTENC with the categorical features' indices in the combined dataset (X_imputed) for synthetic minority oversampling."
      ],
      "metadata": {
        "id": "8y7zwSkjPndZ"
      }
    },
    {
      "cell_type": "code",
      "execution_count": null,
      "metadata": {
        "id": "_EwAE8kmEZsW"
      },
      "outputs": [],
      "source": [
        "from sklearn.impute import SimpleImputer\n",
        "from imblearn.over_sampling import SMOTENC\n",
        "import pandas as pd\n",
        "\n",
        "\n",
        "\n",
        "# Identify categorical and continuous features\n",
        "categorical_features = ['Station_Name', 'City', 'State_Province']\n",
        "continuous_features = ['Total_Duration_Seconds', 'Charging_Time_Seconds', 'Energy__kWh_']\n",
        "\n",
        "# Separate numerical and categorical columns\n",
        "X_numeric = X[continuous_features]\n",
        "X_categorical = X[categorical_features]\n",
        "\n",
        "# Impute missing values in numerical columns\n",
        "imputer_numeric = SimpleImputer(strategy='mean')\n",
        "X_numeric_imputed = imputer_numeric.fit_transform(X_numeric)\n",
        "\n",
        "# Impute missing values in categorical columns\n",
        "imputer_categorical = SimpleImputer(strategy='most_frequent')\n",
        "X_categorical_imputed = imputer_categorical.fit_transform(X_categorical)\n",
        "\n",
        "# Combine imputed numerical and categorical data\n",
        "X_imputed = pd.concat([pd.DataFrame(X_numeric_imputed, columns=continuous_features),\n",
        "                       pd.DataFrame(X_categorical_imputed, columns=categorical_features)], axis=1)\n",
        "\n",
        "# Initialize SMOTE-NC\n",
        "smote_nc = SMOTENC(categorical_features=[X_imputed.columns.get_loc(col) for col in categorical_features], random_state=42)\n",
        "\n",
        "# Perform balancing\n",
        "X_resampled, y_resampled = smote_nc.fit_resample(X_imputed, y)\n",
        "\n"
      ]
    },
    {
      "cell_type": "code",
      "execution_count": null,
      "metadata": {
        "colab": {
          "base_uri": "https://localhost:8080/"
        },
        "id": "PZcR_qh7F5H-",
        "outputId": "b0884802-a0bd-4108-d0a8-92e013a2f06a"
      },
      "outputs": [
        {
          "output_type": "stream",
          "name": "stdout",
          "text": [
            "Counter({0: 133322, 1: 133322})\n"
          ]
        }
      ],
      "source": [
        "from collections import Counter\n",
        "counter = Counter(y_resampled)\n",
        "print(counter)"
      ]
    },
    {
      "cell_type": "code",
      "execution_count": null,
      "metadata": {
        "id": "aJjb5Yv9SNjG"
      },
      "outputs": [],
      "source": [
        "import numpy as np\n",
        "import pandas as pd\n",
        "from sklearn.model_selection import train_test_split\n",
        "from sklearn.preprocessing import OneHotEncoder\n",
        "from sklearn.metrics import accuracy_score, precision_score, recall_score, f1_score, roc_auc_score\n",
        "from keras.layers import Input, Dense, Multiply, Add, Lambda, concatenate\n",
        "from keras.models import Model\n",
        "from tensorflow.keras.utils import to_categorical\n",
        "import time\n",
        "\n",
        "\n",
        "# Load the balanced dataset\n",
        "balanced_data = pd.read_csv(\"/content/drive/MyDrive/EVCS/balanced_dataset.csv\")\n",
        "\n",
        "# Separate features and target variable\n",
        "X = balanced_data.drop(columns=['Anomaly_Label'])\n",
        "y = balanced_data['Anomaly_Label']\n",
        "\n",
        "# Split the data into training and testing sets\n",
        "X_train, X_test, y_train, y_test = train_test_split(X, y, test_size=0.2, random_state=42)\n",
        "\n",
        "# One-hot encode categorical features\n",
        "encoder = OneHotEncoder()\n",
        "X_train_encoded = encoder.fit_transform(X_train[['Station_Name', 'City', 'State_Province']]).toarray()\n",
        "X_test_encoded = encoder.transform(X_test[['Station_Name', 'City', 'State_Province']]).toarray()\n",
        "\n",
        "# Concatenate encoded features with numerical features\n",
        "X_train_processed = np.concatenate([X_train_encoded, X_train.drop(columns=['Station_Name', 'City', 'State_Province']).values], axis=1)\n",
        "X_test_processed = np.concatenate([X_test_encoded, X_test.drop(columns=['Station_Name', 'City', 'State_Province']).values], axis=1)"
      ]
    },
    {
      "cell_type": "code",
      "execution_count": null,
      "metadata": {
        "id": "GYZY5vqzTAG_",
        "colab": {
          "base_uri": "https://localhost:8080/"
        },
        "outputId": "39a33062-735d-43dc-ce04-d4e3d44bf392"
      },
      "outputs": [
        {
          "output_type": "stream",
          "name": "stdout",
          "text": [
            "Accuracy: 0.7408351928594198\n",
            "F1 Score: 0.7237862872715801\n",
            "Precision: 0.981\n",
            "Recall: 0.741\n",
            "Execution Time: 8.350805282592773\n"
          ]
        }
      ],
      "source": [
        "from sklearn.preprocessing import StandardScaler\n",
        "from sklearn.linear_model import PassiveAggressiveClassifier\n",
        "from sklearn.metrics import accuracy_score, f1_score, recall_score, precision_score\n",
        "import time\n",
        "\n",
        "cl = PassiveAggressiveClassifier(random_state = 30)\n",
        "start_time = time.time()\n",
        "cl.fit(X_train_processed, y_train)\n",
        "end_time = time.time()\n",
        "\n",
        "# Predict on the testing set\n",
        "y_pred = cl.predict(X_test_processed)\n",
        "\n",
        "# Evaluate the classifier\n",
        "accuracy = accuracy_score(y_test, y_pred)\n",
        "f1 = f1_score(y_test, y_pred, average='weighted')\n",
        "precision = precision_score(y_test, y_pred, average='binary')\n",
        "recall = recall_score(y_test, y_pred, average='weighted')\n",
        "\n",
        "execution_time = end_time - start_time\n",
        "\n",
        "# calculate prediction\n",
        "\n",
        "print(f\"Accuracy: {accuracy}\")\n",
        "print(f\"F1 Score: {f1}\")\n",
        "print('Precision: %.3f' % precision)\n",
        "print('Recall: %.3f' % recall)\n",
        "print(f\"Execution Time: {execution_time}\")"
      ]
    },
    {
      "cell_type": "code",
      "execution_count": null,
      "metadata": {
        "id": "qB2Af7KRTSRw",
        "colab": {
          "base_uri": "https://localhost:8080/"
        },
        "outputId": "9cf5bca4-3445-4871-89a5-4f1d7c18c481"
      },
      "outputs": [
        {
          "output_type": "stream",
          "name": "stdout",
          "text": [
            "Accuracy: 0.8920099758105346\n",
            "F1 Score: 0.8918428511872443\n",
            "Precision: 0.927\n",
            "Recall: 0.852\n",
            "Execution Time: 0.393890380859375\n"
          ]
        }
      ],
      "source": [
        "from sklearn.model_selection import train_test_split\n",
        "from sklearn.linear_model import RidgeClassifier\n",
        "from sklearn.metrics import accuracy_score, f1_score\n",
        "from sklearn.metrics import precision_score\n",
        "from sklearn.metrics import recall_score\n",
        "import time\n",
        "\n",
        "\n",
        "# Train the classifier\n",
        "clf = RidgeClassifier()\n",
        "start_time = time.time()\n",
        "clf.fit(X_train_processed, y_train)\n",
        "end_time = time.time()\n",
        "\n",
        "# Predict on the testing set\n",
        "y_pred = clf.predict(X_test_processed)\n",
        "\n",
        "# Evaluate the classifier\n",
        "accuracy = accuracy_score(y_test, y_pred)\n",
        "f1 = f1_score(y_test, y_pred, average='weighted')\n",
        "precision = precision_score(y_test, y_pred, average='binary')\n",
        "recall = recall_score(y_test, y_pred, average='binary')\n",
        "execution_time = end_time - start_time\n",
        "\n",
        "# calculate prediction\n",
        "\n",
        "print(f\"Accuracy: {accuracy}\")\n",
        "print(f\"F1 Score: {f1}\")\n",
        "print('Precision: %.3f' % precision)\n",
        "print('Recall: %.3f' % recall)\n",
        "print(f\"Execution Time: {execution_time}\")"
      ]
    },
    {
      "cell_type": "code",
      "execution_count": null,
      "metadata": {
        "id": "csk5e0G0Tl2U",
        "colab": {
          "base_uri": "https://localhost:8080/"
        },
        "outputId": "a4051140-6161-49cb-f557-229b40db6776"
      },
      "outputs": [
        {
          "output_type": "stream",
          "name": "stdout",
          "text": [
            "Accuracy: 0.808434435297868\n",
            "F1 Score: 0.8010924257805542\n",
            "Precision: 0.861\n",
            "Recall: 0.808\n",
            "Execution Time: 5.422912836074829\n"
          ]
        }
      ],
      "source": [
        "from sklearn.model_selection import train_test_split\n",
        "from sklearn.linear_model import SGDClassifier\n",
        "from sklearn.metrics import accuracy_score, f1_score\n",
        "from sklearn.metrics import precision_score\n",
        "from sklearn.metrics import recall_score\n",
        "import time\n",
        "\n",
        "# Fitting SGD Classifier to the Training set\n",
        "model = SGDClassifier(random_state= 42)\n",
        "start_time = time.time()\n",
        "model.fit(X_train_processed, y_train)\n",
        "nd_time = time.time()\n",
        "\n",
        "# Predicting the results\n",
        "y_pred = model.predict(X_test_processed)\n",
        "\n",
        "#Evaluate the classifier\n",
        "accuracy = accuracy_score(y_test, y_pred)\n",
        "f1 = f1_score(y_test, y_pred, average='weighted')\n",
        "precision = precision_score(y_test, y_pred, average='weighted')\n",
        "recall = recall_score(y_test, y_pred, average='weighted')\n",
        "execution_time = nd_time - start_time\n",
        "\n",
        "# calculate prediction\n",
        "\n",
        "print(f\"Accuracy: {accuracy}\")\n",
        "print(f\"F1 Score: {f1}\")\n",
        "print('Precision: %.3f' % precision)\n",
        "print('Recall: %.3f' % recall)\n",
        "print(f\"Execution Time: {execution_time}\")"
      ]
    },
    {
      "cell_type": "code",
      "execution_count": null,
      "metadata": {
        "id": "HjUxVJVHvB2Y"
      },
      "outputs": [],
      "source": [
        "from numpy import mean\n",
        "from numpy import std\n",
        "from sklearn.datasets import make_classification\n",
        "from sklearn.model_selection import cross_val_score\n",
        "from sklearn.model_selection import RepeatedStratifiedKFold\n",
        "from sklearn.linear_model import PassiveAggressiveClassifier, RidgeClassifier, SGDClassifier\n",
        "from xgboost import XGBClassifier\n",
        "from sklearn.ensemble import GradientBoostingClassifier\n",
        "from sklearn.pipeline import make_pipeline\n",
        "from sklearn.ensemble import StackingClassifier\n",
        "\n",
        "# get a stacking ensemble of models\n",
        "def get_stacking():\n",
        " # define the base models\n",
        " level0 = list()\n",
        " level0.append(('rc', RidgeClassifier()))\n",
        " level0.append(('pac', PassiveAggressiveClassifier(random_state=30)))\n",
        "\n",
        " # define meta learner model\n",
        " level1 = SGDClassifier(random_state = 42)\n",
        " # define the stacking ensemble\n",
        " model = StackingClassifier(estimators=level0, final_estimator=level1, cv=5)\n",
        " return model\n",
        "\n",
        "# get a list of models to evaluate\n",
        "def get_models():\n",
        " models={}\n",
        " models = dict()\n",
        "\n",
        " models['stacking'] = get_stacking()\n",
        " return models\n",
        "\n",
        "\n"
      ]
    },
    {
      "cell_type": "code",
      "execution_count": null,
      "metadata": {
        "id": "gNz5cj0l2XEq",
        "colab": {
          "base_uri": "https://localhost:8080/"
        },
        "outputId": "f2e51625-c972-4fe4-dafa-953602fa69d9"
      },
      "outputs": [
        {
          "output_type": "stream",
          "name": "stdout",
          "text": [
            ">stacking: accuracy=0.926, f1=0.924, exec_time=28.640, precision=0.959, recall=0.891\n"
          ]
        }
      ],
      "source": [
        "import time\n",
        "from sklearn.metrics import accuracy_score, f1_score\n",
        "from sklearn.metrics import precision_score\n",
        "from sklearn.metrics import recall_score\n",
        "\n",
        "# calculate f1 score and execution time for a given model and data\n",
        "def evaluate_model(model, X_train_processed, X_test_processed, y_train, y_test):\n",
        "    start_time = time.time()\n",
        "    model.fit(X_train_processed, y_train)\n",
        "    exec_time = time.time() - start_time\n",
        "    y_pred = model.predict(X_test_processed)\n",
        "    score = accuracy_score(y_test, y_pred)\n",
        "    f1 = f1_score(y_test, y_pred)\n",
        "    precision = precision_score(y_test, y_pred, average='binary')\n",
        "    recall = recall_score(y_test, y_pred, average='binary')\n",
        "    return score, f1, exec_time, precision, recall\n",
        "\n",
        "# get the models to evaluate\n",
        "models = get_models()\n",
        "\n",
        "# evaluate the models and store results\n",
        "results, names, f1_scores, exec_times, precision_scores, recall_scores = list(), list(), list(), list(), list(), list()\n",
        "for name, model in models.items():\n",
        "    score, f1, exec_time, precision, recall = evaluate_model(model, X_train_processed, X_test_processed, y_train, y_test)\n",
        "    results.append(score)\n",
        "    names.append(name)\n",
        "    f1_scores.append(f1)\n",
        "    precision_scores.append(precision)\n",
        "    recall_scores.append(recall)\n",
        "    exec_times.append(exec_time)\n",
        "    print('>%s: accuracy=%.3f, f1=%.3f, exec_time=%.3f, precision=%.3f, recall=%.3f' % (name, score, f1, exec_time, precision, recall))\n"
      ]
    },
    {
      "cell_type": "code",
      "source": [
        "import matplotlib.pyplot as plt\n",
        "\n",
        "# Data\n",
        "models = ['PAC', 'SGDC', 'Ridge', 'Stacking Model']\n",
        "accuracy = [74, 80, 89, 93]\n",
        "precision = [98, 86, 92, 94]\n",
        "recall = [74, 80, 85, 92]\n",
        "f1_score = [72, 80, 89, 93]\n",
        "\n",
        "# Plotting\n",
        "fig, axes = plt.subplots(nrows=2, ncols=2, figsize=(12, 8))\n",
        "axes = axes.flatten()\n",
        "\n",
        "metrics = ['Accuracy', 'Precision', 'Recall', 'F1-score']\n",
        "data = [accuracy, precision, recall, f1_score]\n",
        "\n",
        "for i in range(4):\n",
        "    axes[i].bar(models, data[i], color=['skyblue', 'lightgreen', 'lightcoral', 'orange'])\n",
        "    axes[i].set_title(metrics[i])\n",
        "    axes[i].set_ylabel(metrics[i])\n",
        "    axes[i].set_xlabel('Models')\n",
        "    axes[i].set_ylim([0, 100])\n",
        "    axes[i].grid(True, linestyle='--', alpha=0.7)\n",
        "\n",
        "plt.tight_layout()\n",
        "plt.savefig(\"/content/drive/MyDrive/Colab Notebooks/evcs_all_models.pdf\", format=\"pdf\", bbox_inches=\"tight\")\n",
        "plt.show()\n"
      ],
      "metadata": {
        "colab": {
          "base_uri": "https://localhost:8080/",
          "height": 616
        },
        "id": "2UNcNMNaFiNm",
        "outputId": "075c0508-e493-488d-b352-6a501a69592a"
      },
      "execution_count": null,
      "outputs": [
        {
          "output_type": "display_data",
          "data": {
            "text/plain": [
              "<Figure size 1200x800 with 4 Axes>"
            ],
            "image/png": "[encoded data removed]"
          },
          "metadata": {}
        }
      ]
    }
  ],
  "metadata": {
    "colab": {
      "provenance": []
    },
    "kernelspec": {
      "display_name": "Python 3",
      "name": "python3"
    },
    "language_info": {
      "name": "python"
    }
  },
  "nbformat": 4,
  "nbformat_minor": 0
}